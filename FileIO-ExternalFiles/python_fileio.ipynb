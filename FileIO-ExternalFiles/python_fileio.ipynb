{
 "cells": [
  {
   "cell_type": "code",
   "execution_count": 1,
   "metadata": {},
   "outputs": [],
   "source": [
    "import os\n",
    "from pathlib import Path"
   ]
  },
  {
   "cell_type": "markdown",
   "metadata": {},
   "source": [
    "### Absolute Paths"
   ]
  },
  {
   "cell_type": "code",
   "execution_count": 2,
   "metadata": {},
   "outputs": [
    {
     "name": "stdout",
     "output_type": "stream",
     "text": [
      "C:\\Users\\SethAntanah\\Desktop\\Data Engineering\\workflow-ochestration\n"
     ]
    }
   ],
   "source": [
    "# Obtain the path to the base of the working directory\n",
    "# Base path can be used to point to any file or directory in the parent directory\n",
    "\n",
    "BASE_DIR = Path().parent.absolute().resolve()\n",
    "print(BASE_DIR)"
   ]
  },
  {
   "cell_type": "code",
   "execution_count": 3,
   "metadata": {},
   "outputs": [
    {
     "name": "stdout",
     "output_type": "stream",
     "text": [
      "The are 2 directories in the base directory\n",
      "The are 4 files in the base directory\n"
     ]
    }
   ],
   "source": [
    "# List the files in the base directory\n",
    "files_in_base_dir = os.listdir(BASE_DIR)\n",
    "\n",
    "dir_count = 0\n",
    "file_count = 0\n",
    "\n",
    "for path in files_in_base_dir:\n",
    "    # Check for directories\n",
    "    if(os.path.isdir(BASE_DIR / path)):\n",
    "        dir_count += 1\n",
    "    else:\n",
    "        file_count += 1\n",
    "        \n",
    "print(f'The are {dir_count} directories in the base directory')\n",
    "print(f'The are {file_count} files in the base directory')"
   ]
  },
  {
   "cell_type": "markdown",
   "metadata": {},
   "source": [
    "### File IO\n",
    "\n",
    "** File Modes: **\n",
    "* \"r\": Read mode. Opens a file for reading. (default mode)\n",
    "* \"w\": Write mode. Opens a file for writing. Creates a new file if it does not exist or truncates the file if it exists.\n",
    "* \"a\": Append mode. Opens a file for appending. Creates a new file if it does not exist.\n",
    "* \"b\": Binary mode. Opens a file in binary mode.\n",
    "* \"t\": Text mode. Opens a file in text mode. (default mode)\n",
    "* \"+\": Open a file for updating (reading and writing)."
   ]
  },
  {
   "cell_type": "code",
   "execution_count": 4,
   "metadata": {},
   "outputs": [
    {
     "name": "stdout",
     "output_type": "stream",
     "text": [
      "(1) The only way to get things done is to plan and get things done\n",
      "(2) Organization is very key in this aspect.\n"
     ]
    }
   ],
   "source": [
    "# Open and read contents of  file\n",
    "\n",
    "path_to_file = BASE_DIR / 'datasets/plan.txt'\n",
    "file = open(path_to_file, 'r')\n",
    "content = file.read()\n",
    "print(content)\n",
    "\n",
    "# always remember to close the file\n",
    "file.close()"
   ]
  },
  {
   "cell_type": "code",
   "execution_count": 5,
   "metadata": {},
   "outputs": [
    {
     "name": "stdout",
     "output_type": "stream",
     "text": [
      "(1) The only way to get things done is to plan and get things done\n",
      "\n",
      "(2) Organization is very key in this aspect.\n"
     ]
    }
   ],
   "source": [
    "# Open and read contents of a file one line at a time\n",
    "\n",
    "path_to_file = BASE_DIR / 'datasets/plan.txt'\n",
    "file = open(path_to_file, 'r')\n",
    "\n",
    "for line in file.readlines():\n",
    "    print(line)\n",
    "\n",
    "# always remember to close the file\n",
    "file.close()"
   ]
  },
  {
   "cell_type": "code",
   "execution_count": 6,
   "metadata": {},
   "outputs": [],
   "source": [
    "# Open and Write to the file\n",
    "\n",
    "path_to_file = BASE_DIR / 'datasets/plan.txt'\n",
    "file = open(path_to_file, 'w')\n",
    "\n",
    "text = \"\"\"(1) The only way to get things done is to plan and get things done\"\"\"\n",
    "file.write(text)\n",
    "\n",
    "# always remember to close the file\n",
    "file.close()"
   ]
  },
  {
   "cell_type": "code",
   "execution_count": 7,
   "metadata": {},
   "outputs": [],
   "source": [
    "# Open and Append text to the file\n",
    "\n",
    "path_to_file = BASE_DIR / 'datasets/plan.txt'\n",
    "file = open(path_to_file, 'a')\n",
    "\n",
    "text = \"\"\"\\n(2) Organization is very key in this aspect.\"\"\"\n",
    "file.write(text)\n",
    "\n",
    "# always remember to close the file\n",
    "file.close()"
   ]
  },
  {
   "cell_type": "code",
   "execution_count": 8,
   "metadata": {},
   "outputs": [
    {
     "name": "stdout",
     "output_type": "stream",
     "text": [
      "### Orchestration\n",
      "\n",
      "The process of automating, coordinating and managing the execution of individual tasks within the workflow across various systems and application in a unified manner.\n",
      "\n",
      "### Usecases of Workflow and Orchestration\n",
      "\n",
      "* CI/CD Pipelines\n",
      "* ETL Pipelines\n",
      "* Decision Automated\n",
      "\n",
      "### ETL\n",
      "\n",
      "* Extract\n",
      "* Transform \n",
      "* Load\n",
      "\n",
      "### AWS Tools for Workflow and Orchestration\n",
      "\n",
      "* AWS Step Function / Airflow\n",
      "* CloudFormation\n",
      "* Lambda \n",
      "* Kubernetes\n",
      "\n",
      "\n",
      "### Terminologies\n",
      "\n",
      "* Processes\n",
      "* * Batch \n",
      "* * Realtime\n"
     ]
    }
   ],
   "source": [
    "# Using with Statement:\n",
    "# Using a with statement ensures that the file is properly closed after its suite finishes, even if an exception is raised.\n",
    "\n",
    "path_to_file = BASE_DIR / 'README.md'\n",
    "with open(path_to_file, \"r\") as file:\n",
    "    content = file.read()\n",
    "    print(content)\n",
    "    # File is automatically closed here\n"
   ]
  },
  {
   "cell_type": "code",
   "execution_count": 9,
   "metadata": {},
   "outputs": [
    {
     "name": "stdout",
     "output_type": "stream",
     "text": [
      "(1) The only way to get things done is to plan and get things done\n",
      "(2) Organization is very key in this aspect.\n",
      "Appending this line.\n"
     ]
    }
   ],
   "source": [
    "# Read and Write at the same time\n",
    "path_to_file = BASE_DIR / 'datasets/plan.txt'\n",
    "with open(path_to_file, \"r+\") as file:\n",
    "    content = file.read()  # Read the existing content\n",
    "    file.write(\"\\nAppending this line.\")  # Append new content\n",
    "    # Alternatively, you can also seek to a specific position and write\n",
    "    # file.seek(0, 2)  # Move the file pointer to the end\n",
    "    # file.write(\"\\nAppending this line.\")\n",
    "\n",
    "    file.seek(0)  # Move the file pointer to the beginning (optional)\n",
    "    updated_content = file.read()  # Read the updated content\n",
    "    print(updated_content)\n"
   ]
  },
  {
   "cell_type": "markdown",
   "metadata": {},
   "source": [
    "### Handling File IO Errors"
   ]
  },
  {
   "cell_type": "code",
   "execution_count": 10,
   "metadata": {},
   "outputs": [
    {
     "name": "stdout",
     "output_type": "stream",
     "text": [
      "File 'plan2.txt' not found\n"
     ]
    }
   ],
   "source": [
    "try:\n",
    "    path_to_file = BASE_DIR / 'plan2.txt'\n",
    "    file = open(path_to_file, 'r+')\n",
    "    content = file.read()\n",
    "    print(content)\n",
    "    \n",
    "except FileExistsError:\n",
    "    print(f\"File '{os.path.basename(path_to_file)}' does not exist\")\n",
    "except FileNotFoundError:\n",
    "    print(f\"File '{os.path.basename(path_to_file)}' not found\")\n",
    "except PermissionError:\n",
    "    print(f\"Permission denied to '{os.path.basename(path_to_file)}'\")"
   ]
  },
  {
   "cell_type": "markdown",
   "metadata": {},
   "source": [
    "### Downloading and handling Files"
   ]
  },
  {
   "cell_type": "code",
   "execution_count": null,
   "metadata": {},
   "outputs": [],
   "source": [
    "# install requirements\n",
    "! pip install requests"
   ]
  },
  {
   "cell_type": "code",
   "execution_count": 11,
   "metadata": {},
   "outputs": [],
   "source": [
    "import requests"
   ]
  },
  {
   "cell_type": "code",
   "execution_count": 12,
   "metadata": {},
   "outputs": [],
   "source": [
    "# URL of text file\n",
    "file_url = 'https://example-files.online-convert.com/document/txt/example.txt'\n",
    "\n",
    "try:\n",
    "    response = requests.get(file_url)\n",
    "    if response.status_code == 200:\n",
    "        file_content = response.text\n",
    "        if(file_content):\n",
    "            try:\n",
    "                with open(BASE_DIR / 'datasets/random_text.txt', 'r+') as file:\n",
    "                    file.write(file_content)\n",
    "            except FileExistsError:\n",
    "                print('File does not exist')\n",
    "            except FileNotFoundError:\n",
    "                print('File was not found in current directory')\n",
    "                \n",
    "                \n",
    "except ConnectionError as e:\n",
    "    print('Connection to server could not be extablished', str(e))\n",
    "except Exception as e:\n",
    "    print(e)\n",
    "        "
   ]
  },
  {
   "cell_type": "markdown",
   "metadata": {},
   "source": [
    "### Read a CSV file"
   ]
  },
  {
   "cell_type": "code",
   "execution_count": null,
   "metadata": {},
   "outputs": [],
   "source": [
    "! pip install pandas"
   ]
  },
  {
   "cell_type": "code",
   "execution_count": 15,
   "metadata": {},
   "outputs": [],
   "source": [
    "import requests\n",
    "import pandas as pd\n",
    "from io import StringIO"
   ]
  },
  {
   "cell_type": "code",
   "execution_count": 17,
   "metadata": {},
   "outputs": [
    {
     "name": "stdout",
     "output_type": "stream",
     "text": [
      "File Downloaded. \n",
      " File Size (17028, 7) \n",
      " File Description <bound method NDFrame.describe of        year industry_code_ANZSIC               industry_name_ANZSIC  \\\n",
      "0      2011                    A  Agriculture, Forestry and Fishing   \n",
      "1      2011                    A  Agriculture, Forestry and Fishing   \n",
      "2      2011                    A  Agriculture, Forestry and Fishing   \n",
      "3      2011                    A  Agriculture, Forestry and Fishing   \n",
      "4      2011                    A  Agriculture, Forestry and Fishing   \n",
      "...     ...                  ...                                ...   \n",
      "17023  2021                  all                     All Industries   \n",
      "17024  2021                  all                     All Industries   \n",
      "17025  2021                  all                     All Industries   \n",
      "17026  2021                  all                     All Industries   \n",
      "17027  2021                  all                     All Industries   \n",
      "\n",
      "        rme_size_grp                                         variable  \\\n",
      "0                a_0                                    Activity unit   \n",
      "1                a_0                           Rolling mean employees   \n",
      "2                a_0                          Salaries and wages paid   \n",
      "3                a_0  Sales, government funding, grants and subsidies   \n",
      "4                a_0                                     Total income   \n",
      "...              ...                                              ...   \n",
      "17023  j_Grand_Total                                     Total income   \n",
      "17024  j_Grand_Total                                Total expenditure   \n",
      "17025  j_Grand_Total                      Operating profit before tax   \n",
      "17026  j_Grand_Total                                     Total assets   \n",
      "17027  j_Grand_Total                            Fixed tangible assets   \n",
      "\n",
      "         value               unit  \n",
      "0        46134              COUNT  \n",
      "1            0              COUNT  \n",
      "2          279  DOLLARS(millions)  \n",
      "3         8187  DOLLARS(millions)  \n",
      "4         8866  DOLLARS(millions)  \n",
      "...        ...                ...  \n",
      "17023   757504  DOLLARS(millions)  \n",
      "17024   654404  DOLLARS(millions)  \n",
      "17025    85116  DOLLARS(millions)  \n",
      "17026  2512677  DOLLARS(millions)  \n",
      "17027   591351  DOLLARS(millions)  \n",
      "\n",
      "[17028 rows x 7 columns]>\n"
     ]
    }
   ],
   "source": [
    "file_url = 'https://www.stats.govt.nz/assets/Uploads/Annual-enterprise-survey/Annual-enterprise-survey-2021-financial-year-provisional/Download-data/annual-enterprise-survey-2021-financial-year-provisional-size-bands-csv.csv'\n",
    "\n",
    "try:\n",
    "    response = requests.get(file_url)\n",
    "    if response.status_code == 200:\n",
    "        csv_data = StringIO(response.content.decode('utf-8'))\n",
    "        df = pd.read_csv(csv_data)\n",
    "        df.to_csv(BASE_DIR / 'datasets/annual-enterprise-survey-2021-financial-year-provisional-size-bands-csv.csv', index=False)\n",
    "        print(f'File Downloaded.\\nFile Size {df.shape}\\nFile Description {df.describe}')\n",
    "except ConnectionError as e:\n",
    "    print(f'Download Failed \\n {str(e)}')"
   ]
  },
  {
   "cell_type": "markdown",
   "metadata": {},
   "source": [
    "### Download and Extract Zip files"
   ]
  },
  {
   "cell_type": "code",
   "execution_count": 19,
   "metadata": {},
   "outputs": [],
   "source": [
    "import io\n",
    "import requests\n",
    "import zipfile\n",
    "import pandas as pd"
   ]
  },
  {
   "cell_type": "code",
   "execution_count": 20,
   "metadata": {},
   "outputs": [
    {
     "name": "stdout",
     "output_type": "stream",
     "text": [
      "Download Completed\n",
      "File Extraction Completed\n",
      "['business-financial-data-december-2023-quarter-csv.csv']\n"
     ]
    }
   ],
   "source": [
    "file_url = 'https://www.stats.govt.nz/assets/Uploads/Business-financial-data/Business-financial-data-December-2023-quarter/Download-data/business-financial-data-december-2023-quarter.zip'\n",
    "\n",
    "try:\n",
    "    response = requests.get(file_url)\n",
    "    \n",
    "    if response.status_code == 200:\n",
    "        with zipfile.ZipFile(io.BytesIO(response.content), 'r') as zip_ref:\n",
    "            print(f'Download Completed')\n",
    "            \n",
    "            # List all files in the zip archive\n",
    "            zip_file_content = zip_ref.namelist()\n",
    "            \n",
    "            # Extract files to directory\n",
    "            print(f'File Extraction Completed')\n",
    "            zip_ref.extractall(BASE_DIR / 'datasets')\n",
    "            \n",
    "            print(f'{str(zip_file_content)}')\n",
    "          \n",
    "    if response.status_code == 400:\n",
    "        print('File cannot be found, check the url') \n",
    "              \n",
    "except ConnectionError:\n",
    "    print('Cannot connect to sever.')\n",
    "\n",
    "except Exception as e:\n",
    "    print(e)\n",
    "            \n",
    "            "
   ]
  },
  {
   "cell_type": "markdown",
   "metadata": {},
   "source": [
    "### Stream Data From a File"
   ]
  },
  {
   "cell_type": "code",
   "execution_count": null,
   "metadata": {},
   "outputs": [],
   "source": [
    "# URL of text file\n",
    "file_url = 'https://example-files.online-convert.com/document/txt/example.txt'\n",
    "file_content = ''\n",
    "try:\n",
    "    response = requests.get(file_url)\n",
    "    if response.status_code == 200:\n",
    "        file_content = response.text\n",
    "except ConnectionError:\n",
    "    print(f'Could not connect to server. \\n {str(e)}')"
   ]
  }
 ],
 "metadata": {
  "kernelspec": {
   "display_name": "venv",
   "language": "python",
   "name": "python3"
  },
  "language_info": {
   "codemirror_mode": {
    "name": "ipython",
    "version": 3
   },
   "file_extension": ".py",
   "mimetype": "text/x-python",
   "name": "python",
   "nbconvert_exporter": "python",
   "pygments_lexer": "ipython3",
   "version": "3.12.2"
  }
 },
 "nbformat": 4,
 "nbformat_minor": 2
}
